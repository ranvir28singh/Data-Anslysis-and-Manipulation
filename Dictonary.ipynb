{
 "cells": [
  {
   "cell_type": "code",
   "execution_count": 16,
   "metadata": {},
   "outputs": [],
   "source": [
    "from vega_datasets import data\n",
    "import itertools"
   ]
  },
  {
   "cell_type": "code",
   "execution_count": 220,
   "metadata": {},
   "outputs": [
    {
     "data": {
      "text/html": [
       "<div>\n",
       "<style scoped>\n",
       "    .dataframe tbody tr th:only-of-type {\n",
       "        vertical-align: middle;\n",
       "    }\n",
       "\n",
       "    .dataframe tbody tr th {\n",
       "        vertical-align: top;\n",
       "    }\n",
       "\n",
       "    .dataframe thead th {\n",
       "        text-align: right;\n",
       "    }\n",
       "</style>\n",
       "<table border=\"1\" class=\"dataframe\">\n",
       "  <thead>\n",
       "    <tr style=\"text-align: right;\">\n",
       "      <th></th>\n",
       "      <th>iata</th>\n",
       "      <th>name</th>\n",
       "      <th>city</th>\n",
       "      <th>state</th>\n",
       "      <th>country</th>\n",
       "      <th>latitude</th>\n",
       "      <th>longitude</th>\n",
       "    </tr>\n",
       "  </thead>\n",
       "  <tbody>\n",
       "    <tr>\n",
       "      <th>0</th>\n",
       "      <td>00M</td>\n",
       "      <td>Thigpen</td>\n",
       "      <td>Bay Springs</td>\n",
       "      <td>MS</td>\n",
       "      <td>USA</td>\n",
       "      <td>31.953765</td>\n",
       "      <td>-89.234505</td>\n",
       "    </tr>\n",
       "    <tr>\n",
       "      <th>1</th>\n",
       "      <td>00R</td>\n",
       "      <td>Livingston Municipal</td>\n",
       "      <td>Livingston</td>\n",
       "      <td>TX</td>\n",
       "      <td>USA</td>\n",
       "      <td>30.685861</td>\n",
       "      <td>-95.017928</td>\n",
       "    </tr>\n",
       "    <tr>\n",
       "      <th>2</th>\n",
       "      <td>00V</td>\n",
       "      <td>Meadow Lake</td>\n",
       "      <td>Colorado Springs</td>\n",
       "      <td>CO</td>\n",
       "      <td>USA</td>\n",
       "      <td>38.945749</td>\n",
       "      <td>-104.569893</td>\n",
       "    </tr>\n",
       "    <tr>\n",
       "      <th>3</th>\n",
       "      <td>01G</td>\n",
       "      <td>Perry-Warsaw</td>\n",
       "      <td>Perry</td>\n",
       "      <td>NY</td>\n",
       "      <td>USA</td>\n",
       "      <td>42.741347</td>\n",
       "      <td>-78.052081</td>\n",
       "    </tr>\n",
       "    <tr>\n",
       "      <th>4</th>\n",
       "      <td>01J</td>\n",
       "      <td>Hilliard Airpark</td>\n",
       "      <td>Hilliard</td>\n",
       "      <td>FL</td>\n",
       "      <td>USA</td>\n",
       "      <td>30.688012</td>\n",
       "      <td>-81.905944</td>\n",
       "    </tr>\n",
       "  </tbody>\n",
       "</table>\n",
       "</div>"
      ],
      "text/plain": [
       "  iata                  name              city state country   latitude  \\\n",
       "0  00M               Thigpen       Bay Springs    MS     USA  31.953765   \n",
       "1  00R  Livingston Municipal        Livingston    TX     USA  30.685861   \n",
       "2  00V           Meadow Lake  Colorado Springs    CO     USA  38.945749   \n",
       "3  01G          Perry-Warsaw             Perry    NY     USA  42.741347   \n",
       "4  01J      Hilliard Airpark          Hilliard    FL     USA  30.688012   \n",
       "\n",
       "    longitude  \n",
       "0  -89.234505  \n",
       "1  -95.017928  \n",
       "2 -104.569893  \n",
       "3  -78.052081  \n",
       "4  -81.905944  "
      ]
     },
     "execution_count": 220,
     "metadata": {},
     "output_type": "execute_result"
    }
   ],
   "source": [
    "airport_df=data.airports()\n",
    "airport_df.head()"
   ]
  },
  {
   "cell_type": "markdown",
   "metadata": {},
   "source": [
    "### Converting df to list form dict"
   ]
  },
  {
   "cell_type": "code",
   "execution_count": 237,
   "metadata": {
    "scrolled": true
   },
   "outputs": [
    {
     "name": "stdout",
     "output_type": "stream",
     "text": [
      "00M\n",
      "Thigpen\n",
      "Bay Springs\n",
      "MS\n"
     ]
    }
   ],
   "source": [
    "airport_dict=airport_df.to_dict('dict')\n",
    "print(list(airport_dict.items())[0][1][0])\n",
    "print(list(airport_dict.items())[1][1][0])\n",
    "print(list(airport_dict.items())[2][1][0])\n",
    "print(list(airport_dict.items())[3][1][0])\n"
   ]
  },
  {
   "cell_type": "code",
   "execution_count": 239,
   "metadata": {},
   "outputs": [
    {
     "name": "stdout",
     "output_type": "stream",
     "text": [
      "00M\n",
      "Thigpen\n",
      "Bay Springs\n",
      "MS\n"
     ]
    }
   ],
   "source": [
    "# another way to access items \n",
    "print(airport_dict['iata'][0])\n",
    "print(airport_dict['name'][0])\n",
    "print(airport_dict['city'][0])\n",
    "print(airport_dict['state'][0])\n"
   ]
  },
  {
   "cell_type": "code",
   "execution_count": 246,
   "metadata": {},
   "outputs": [
    {
     "data": {
      "text/plain": [
       "['00M', 'Thigpen', 'Bay Springs', 'MS', 'USA', 31.95376472, -89.23450472]"
      ]
     },
     "execution_count": 246,
     "metadata": {},
     "output_type": "execute_result"
    }
   ],
   "source": [
    "# another way to access items \n",
    "con=map(lambda x: airport_dict[x][0],airport_dict)\n",
    "list(con)"
   ]
  },
  {
   "cell_type": "markdown",
   "metadata": {},
   "source": [
    "### Creating dicts from lists"
   ]
  },
  {
   "cell_type": "code",
   "execution_count": 240,
   "metadata": {},
   "outputs": [
    {
     "data": {
      "text/plain": [
       "{'prod': ['a', 'b', 'c', 'd', 'e', 'f'],\n",
       " 'unit_price': [100, 200, 300, 400, 500, 600]}"
      ]
     },
     "execution_count": 240,
     "metadata": {},
     "output_type": "execute_result"
    }
   ],
   "source": [
    "prod=['a','b','c','d','e','f']\n",
    "price=[100,200,300,400,500,600]\n",
    "price_dict={'prod':prod,'unit_price':price}\n",
    "price_dict"
   ]
  },
  {
   "cell_type": "code",
   "execution_count": 241,
   "metadata": {},
   "outputs": [
    {
     "name": "stdout",
     "output_type": "stream",
     "text": [
      "a\n",
      "100\n"
     ]
    }
   ],
   "source": [
    "print(price_dict['prod'][0])\n",
    "print(price_dict['unit_price'][0])"
   ]
  },
  {
   "cell_type": "markdown",
   "metadata": {},
   "source": [
    "### Converting DF to nested dict"
   ]
  },
  {
   "cell_type": "code",
   "execution_count": 242,
   "metadata": {},
   "outputs": [],
   "source": [
    "air_dict_form=airport_df.set_index(\"iata\").T.to_dict()"
   ]
  },
  {
   "cell_type": "code",
   "execution_count": 243,
   "metadata": {},
   "outputs": [
    {
     "data": {
      "text/plain": [
       "{'name': 'New Orleans International',\n",
       " 'city': 'New Orleans',\n",
       " 'state': 'LA',\n",
       " 'country': 'USA',\n",
       " 'latitude': 29.99338889,\n",
       " 'longitude': -90.25802778}"
      ]
     },
     "execution_count": 243,
     "metadata": {},
     "output_type": "execute_result"
    }
   ],
   "source": [
    "air_dict_form['MSY']"
   ]
  },
  {
   "cell_type": "code",
   "execution_count": 244,
   "metadata": {},
   "outputs": [
    {
     "data": {
      "text/plain": [
       "'LA'"
      ]
     },
     "execution_count": 244,
     "metadata": {},
     "output_type": "execute_result"
    }
   ],
   "source": [
    "air_dict_form['MSY']['state']"
   ]
  },
  {
   "cell_type": "markdown",
   "metadata": {},
   "source": [
    "### Lambda Expr on Dicts"
   ]
  },
  {
   "cell_type": "code",
   "execution_count": 279,
   "metadata": {},
   "outputs": [
    {
     "data": {
      "text/plain": [
       "['Downtown Heliport', 'Dallas Love', 'Redbird']"
      ]
     },
     "execution_count": 279,
     "metadata": {},
     "output_type": "execute_result"
    }
   ],
   "source": [
    "from functools import reduce \n",
    "\n",
    "con=map(lambda x: air_dict_form[x]['name'] if air_dict_form[x]['city']=='Dallas' else None,air_dict_form)\n",
    "pon=list(con)\n",
    "[x for x in pon if x is not None]"
   ]
  },
  {
   "cell_type": "code",
   "execution_count": 268,
   "metadata": {},
   "outputs": [
    {
     "data": {
      "text/plain": [
       "['Downtown Heliport', 'Dallas Love', 'Redbird']"
      ]
     },
     "execution_count": 268,
     "metadata": {},
     "output_type": "execute_result"
    }
   ],
   "source": [
    "con=filter(lambda x: air_dict_form[x]['city']=='Dallas',air_dict_form)\n",
    "pon=list(con)\n",
    "list(map(lambda x: air_dict_form[x]['name'],pon))"
   ]
  },
  {
   "cell_type": "markdown",
   "metadata": {},
   "source": [
    "### Deleting records"
   ]
  },
  {
   "cell_type": "code",
   "execution_count": 109,
   "metadata": {},
   "outputs": [],
   "source": [
    "del air_dict_form['00M'],air_dict_form['00R']"
   ]
  },
  {
   "cell_type": "markdown",
   "metadata": {},
   "source": [
    "### Updating Records"
   ]
  },
  {
   "cell_type": "code",
   "execution_count": 114,
   "metadata": {},
   "outputs": [
    {
     "data": {
      "text/plain": [
       "'Lake Meadow'"
      ]
     },
     "execution_count": 114,
     "metadata": {},
     "output_type": "execute_result"
    }
   ],
   "source": [
    "air_dict_form['00V']['name']= 'Lake Meadow'\n",
    "air_dict_form['00V']['name']"
   ]
  },
  {
   "cell_type": "code",
   "execution_count": 121,
   "metadata": {},
   "outputs": [
    {
     "data": {
      "text/plain": [
       "{'name': 'Calcutta Internationa Airport',\n",
       " 'city': 'Kolkata',\n",
       " 'state': 'WB',\n",
       " 'country': 'India',\n",
       " 'latitude': 29,\n",
       " 'longitude': 90.25802778}"
      ]
     },
     "execution_count": 121,
     "metadata": {},
     "output_type": "execute_result"
    }
   ],
   "source": [
    "air_dict_form['CCU']={'name': 'Calcutta Internationa Airport',\n",
    " 'city': 'Kolkata',\n",
    " 'state': 'WB',\n",
    " 'country': 'India',\n",
    " 'latitude': 29,\n",
    " 'longitude': 90.25802778}\n",
    "air_dict_form['CCU']"
   ]
  },
  {
   "cell_type": "markdown",
   "metadata": {},
   "source": [
    "### Merging Dicts"
   ]
  },
  {
   "cell_type": "code",
   "execution_count": 124,
   "metadata": {},
   "outputs": [
    {
     "data": {
      "text/plain": [
       "{'a': 1, 'b': 2, 'c': 3, 'd': 4, 'e': 5, 'f': 6}"
      ]
     },
     "execution_count": 124,
     "metadata": {},
     "output_type": "execute_result"
    }
   ],
   "source": [
    "dict1={'a':1,'b':2,'c':3}\n",
    "dict2={'d':4,'e':5,'f':6}\n",
    "dict_f={**dict1,**dict2}\n",
    "dict_f"
   ]
  },
  {
   "cell_type": "markdown",
   "metadata": {},
   "source": [
    "### Sorting according to one value"
   ]
  },
  {
   "cell_type": "code",
   "execution_count": 280,
   "metadata": {},
   "outputs": [
    {
     "data": {
      "text/plain": [
       "['BRW', 'AWI', 'ATK', 'AQT', 'SCC']"
      ]
     },
     "execution_count": 280,
     "metadata": {},
     "output_type": "execute_result"
    }
   ],
   "source": [
    "sorted(air_dict_form,key=lambda x: air_dict_form[x]['latitude'],reverse=True)[0:5]"
   ]
  },
  {
   "cell_type": "code",
   "execution_count": 145,
   "metadata": {},
   "outputs": [
    {
     "data": {
      "text/plain": [
       "{'name': 'Wiley Post Will Rogers Memorial',\n",
       " 'city': 'Barrow',\n",
       " 'state': 'AK',\n",
       " 'country': 'USA',\n",
       " 'latitude': 71.2854475,\n",
       " 'longitude': -156.76600190000002}"
      ]
     },
     "execution_count": 145,
     "metadata": {},
     "output_type": "execute_result"
    }
   ],
   "source": [
    "air_dict_form['BRW']"
   ]
  },
  {
   "cell_type": "code",
   "execution_count": 146,
   "metadata": {},
   "outputs": [
    {
     "data": {
      "text/plain": [
       "{'name': 'Wainwright',\n",
       " 'city': 'Wainwright',\n",
       " 'state': 'AK',\n",
       " 'country': 'USA',\n",
       " 'latitude': 70.638,\n",
       " 'longitude': -159.99475}"
      ]
     },
     "execution_count": 146,
     "metadata": {},
     "output_type": "execute_result"
    }
   ],
   "source": [
    "air_dict_form['AWI']"
   ]
  },
  {
   "cell_type": "markdown",
   "metadata": {},
   "source": [
    "### Checking for Keys"
   ]
  },
  {
   "cell_type": "code",
   "execution_count": 147,
   "metadata": {},
   "outputs": [
    {
     "data": {
      "text/plain": [
       "True"
      ]
     },
     "execution_count": 147,
     "metadata": {},
     "output_type": "execute_result"
    }
   ],
   "source": [
    "'SJC' in air_dict_form"
   ]
  },
  {
   "cell_type": "markdown",
   "metadata": {},
   "source": [
    "### New Key values"
   ]
  },
  {
   "cell_type": "code",
   "execution_count": 256,
   "metadata": {},
   "outputs": [
    {
     "data": {
      "text/plain": [
       "{'name': 'New Orleans International',\n",
       " 'city': 'New Orleans',\n",
       " 'state': 'LA',\n",
       " 'country': 'USA',\n",
       " 'latitude': 29.99338889,\n",
       " 'longitude': -90.25802778,\n",
       " 'new_lat': 2.9993388889999997}"
      ]
     },
     "execution_count": 256,
     "metadata": {},
     "output_type": "execute_result"
    }
   ],
   "source": [
    "air_dict_form_new=[air_dict_form[i]['latitude']/10 for i in air_dict_form]\n",
    "for i in air_dict_form:\n",
    "    #print(i)\n",
    "    air_dict_form[i]['new_lat']=air_dict_form[i]['latitude']/10\n",
    "    \n",
    "air_dict_form['MSY']    "
   ]
  },
  {
   "cell_type": "markdown",
   "metadata": {},
   "source": [
    "### Converting dict to df"
   ]
  },
  {
   "cell_type": "code",
   "execution_count": 168,
   "metadata": {},
   "outputs": [
    {
     "data": {
      "text/html": [
       "<div>\n",
       "<style scoped>\n",
       "    .dataframe tbody tr th:only-of-type {\n",
       "        vertical-align: middle;\n",
       "    }\n",
       "\n",
       "    .dataframe tbody tr th {\n",
       "        vertical-align: top;\n",
       "    }\n",
       "\n",
       "    .dataframe thead th {\n",
       "        text-align: right;\n",
       "    }\n",
       "</style>\n",
       "<table border=\"1\" class=\"dataframe\">\n",
       "  <thead>\n",
       "    <tr style=\"text-align: right;\">\n",
       "      <th></th>\n",
       "      <th>name</th>\n",
       "      <th>city</th>\n",
       "      <th>state</th>\n",
       "      <th>country</th>\n",
       "      <th>latitude</th>\n",
       "      <th>longitude</th>\n",
       "    </tr>\n",
       "  </thead>\n",
       "  <tbody>\n",
       "    <tr>\n",
       "      <th>00V</th>\n",
       "      <td>Lake Meadow</td>\n",
       "      <td>Colorado Springs</td>\n",
       "      <td>CO</td>\n",
       "      <td>USA</td>\n",
       "      <td>38.9457</td>\n",
       "      <td>-104.57</td>\n",
       "    </tr>\n",
       "    <tr>\n",
       "      <th>01G</th>\n",
       "      <td>Perry-Warsaw</td>\n",
       "      <td>Perry</td>\n",
       "      <td>NY</td>\n",
       "      <td>USA</td>\n",
       "      <td>42.7413</td>\n",
       "      <td>-78.0521</td>\n",
       "    </tr>\n",
       "    <tr>\n",
       "      <th>01J</th>\n",
       "      <td>Hilliard Airpark</td>\n",
       "      <td>Hilliard</td>\n",
       "      <td>FL</td>\n",
       "      <td>USA</td>\n",
       "      <td>30.688</td>\n",
       "      <td>-81.9059</td>\n",
       "    </tr>\n",
       "    <tr>\n",
       "      <th>01M</th>\n",
       "      <td>Tishomingo County</td>\n",
       "      <td>Belmont</td>\n",
       "      <td>MS</td>\n",
       "      <td>USA</td>\n",
       "      <td>34.4917</td>\n",
       "      <td>-88.2011</td>\n",
       "    </tr>\n",
       "    <tr>\n",
       "      <th>02A</th>\n",
       "      <td>Gragg-Wade</td>\n",
       "      <td>Clanton</td>\n",
       "      <td>AL</td>\n",
       "      <td>USA</td>\n",
       "      <td>32.8505</td>\n",
       "      <td>-86.6115</td>\n",
       "    </tr>\n",
       "  </tbody>\n",
       "</table>\n",
       "</div>"
      ],
      "text/plain": [
       "                  name              city state country latitude longitude\n",
       "00V        Lake Meadow  Colorado Springs    CO     USA  38.9457   -104.57\n",
       "01G       Perry-Warsaw             Perry    NY     USA  42.7413  -78.0521\n",
       "01J   Hilliard Airpark          Hilliard    FL     USA   30.688  -81.9059\n",
       "01M  Tishomingo County           Belmont    MS     USA  34.4917  -88.2011\n",
       "02A         Gragg-Wade           Clanton    AL     USA  32.8505  -86.6115"
      ]
     },
     "execution_count": 168,
     "metadata": {},
     "output_type": "execute_result"
    }
   ],
   "source": [
    "import pandas as pd\n",
    "air_df=pd.DataFrame(air_dict_form).T\n",
    "air_df.head()"
   ]
  },
  {
   "cell_type": "markdown",
   "metadata": {},
   "source": [
    "### Filtering DF"
   ]
  },
  {
   "cell_type": "code",
   "execution_count": 272,
   "metadata": {
    "scrolled": true
   },
   "outputs": [
    {
     "data": {
      "text/plain": [
       "['Downtown Heliport', 'Dallas Love', 'Redbird']"
      ]
     },
     "execution_count": 272,
     "metadata": {},
     "output_type": "execute_result"
    }
   ],
   "source": [
    "con=filter(lambda x: air_dict_form[x]['city']=='Dallas',air_dict_form)\n",
    "pon=list(con)\n",
    "list(map(lambda x: air_dict_form[x]['name'],pon))"
   ]
  },
  {
   "cell_type": "markdown",
   "metadata": {},
   "source": [
    "### Deleting and Getting Item"
   ]
  },
  {
   "cell_type": "code",
   "execution_count": 183,
   "metadata": {
    "scrolled": true
   },
   "outputs": [
    {
     "data": {
      "text/plain": [
       "{'name': 'New Orleans International',\n",
       " 'city': 'New Orleans',\n",
       " 'state': 'LA',\n",
       " 'country': 'USA',\n",
       " 'latitude': 29.99338889,\n",
       " 'longitude': -90.25802778}"
      ]
     },
     "execution_count": 183,
     "metadata": {},
     "output_type": "execute_result"
    }
   ],
   "source": [
    "air_dict_form.pop('MSY')"
   ]
  },
  {
   "cell_type": "markdown",
   "metadata": {},
   "source": [
    "### Deleting and Getting Last Item"
   ]
  },
  {
   "cell_type": "code",
   "execution_count": 187,
   "metadata": {},
   "outputs": [
    {
     "data": {
      "text/plain": [
       "('CCU',\n",
       " {'name': 'Calcutta Internationa Airport',\n",
       "  'city': 'Kolkata',\n",
       "  'state': 'WB',\n",
       "  'country': 'India',\n",
       "  'latitude': 29,\n",
       "  'longitude': 90.25802778})"
      ]
     },
     "execution_count": 187,
     "metadata": {},
     "output_type": "execute_result"
    }
   ],
   "source": [
    "air_dict_form.popitem()"
   ]
  },
  {
   "cell_type": "code",
   "execution_count": 191,
   "metadata": {},
   "outputs": [
    {
     "data": {
      "text/plain": [
       "dict_items([('name', 'San Jose International'), ('city', 'San Jose'), ('state', 'CA'), ('country', 'USA'), ('latitude', 37.36186194), ('longitude', -121.92900890000001)])"
      ]
     },
     "execution_count": 191,
     "metadata": {},
     "output_type": "execute_result"
    }
   ],
   "source": [
    "air_dict_form['SJC'].items()"
   ]
  },
  {
   "cell_type": "markdown",
   "metadata": {},
   "source": [
    "### JSON"
   ]
  },
  {
   "cell_type": "code",
   "execution_count": 285,
   "metadata": {},
   "outputs": [],
   "source": [
    "import json\n",
    "json_file=open(\"Sample-JSON-file-with-multiple-records-download.json\",'r',encoding='utf-8')\n",
    "json_dict=json.load(json_file)\n",
    "json_file.close()"
   ]
  },
  {
   "cell_type": "code",
   "execution_count": 288,
   "metadata": {},
   "outputs": [],
   "source": [
    "json_dict=json_dict['users']"
   ]
  },
  {
   "cell_type": "code",
   "execution_count": 289,
   "metadata": {},
   "outputs": [
    {
     "data": {
      "text/plain": [
       "[{'userId': 1,\n",
       "  'firstName': 'Krish',\n",
       "  'lastName': 'Lee',\n",
       "  'phoneNumber': '123456',\n",
       "  'emailAddress': 'krish.lee@learningcontainer.com'},\n",
       " {'userId': 2,\n",
       "  'firstName': 'racks',\n",
       "  'lastName': 'jacson',\n",
       "  'phoneNumber': '123456',\n",
       "  'emailAddress': 'racks.jacson@learningcontainer.com'},\n",
       " {'userId': 3,\n",
       "  'firstName': 'denial',\n",
       "  'lastName': 'roast',\n",
       "  'phoneNumber': '33333333',\n",
       "  'emailAddress': 'denial.roast@learningcontainer.com'},\n",
       " {'userId': 4,\n",
       "  'firstName': 'devid',\n",
       "  'lastName': 'neo',\n",
       "  'phoneNumber': '222222222',\n",
       "  'emailAddress': 'devid.neo@learningcontainer.com'},\n",
       " {'userId': 5,\n",
       "  'firstName': 'jone',\n",
       "  'lastName': 'mac',\n",
       "  'phoneNumber': '111111111',\n",
       "  'emailAddress': 'jone.mac@learningcontainer.com'}]"
      ]
     },
     "execution_count": 289,
     "metadata": {},
     "output_type": "execute_result"
    }
   ],
   "source": [
    "json_dict"
   ]
  },
  {
   "cell_type": "code",
   "execution_count": 290,
   "metadata": {},
   "outputs": [],
   "source": [
    "air_json_form=json.dumps(air_dict_form)"
   ]
  },
  {
   "cell_type": "code",
   "execution_count": 293,
   "metadata": {},
   "outputs": [],
   "source": [
    "file2=open('airport.txt','w',encoding='utf-8')\n",
    "json.dump(air_json_form,file2, ensure_ascii=False)\n",
    "file2.close()"
   ]
  },
  {
   "cell_type": "code",
   "execution_count": 296,
   "metadata": {},
   "outputs": [
    {
     "data": {
      "text/plain": [
       "[{'userId': 1,\n",
       "  'firstName': 'Krish',\n",
       "  'lastName': 'Lee',\n",
       "  'phoneNumber': '123456',\n",
       "  'emailAddress': 'krish.lee@learningcontainer.com'}]"
      ]
     },
     "execution_count": 296,
     "metadata": {},
     "output_type": "execute_result"
    }
   ],
   "source": [
    "con=filter(lambda x: x['firstName']=='Krish',json_dict)\n",
    "list(con)"
   ]
  }
 ],
 "metadata": {
  "kernelspec": {
   "display_name": "Python 3",
   "language": "python",
   "name": "python3"
  },
  "language_info": {
   "codemirror_mode": {
    "name": "ipython",
    "version": 3
   },
   "file_extension": ".py",
   "mimetype": "text/x-python",
   "name": "python",
   "nbconvert_exporter": "python",
   "pygments_lexer": "ipython3",
   "version": "3.8.3"
  }
 },
 "nbformat": 4,
 "nbformat_minor": 4
}
