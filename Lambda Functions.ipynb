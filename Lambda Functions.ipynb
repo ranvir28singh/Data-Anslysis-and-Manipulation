{
 "cells": [
  {
   "cell_type": "markdown",
   "metadata": {},
   "source": [
    "## Anonymous Functions"
   ]
  },
  {
   "cell_type": "code",
   "execution_count": 1,
   "metadata": {},
   "outputs": [],
   "source": [
    "mutiply= lambda x,y :x*y\n",
    "power= lambda x,y : x**y"
   ]
  },
  {
   "cell_type": "code",
   "execution_count": 2,
   "metadata": {},
   "outputs": [
    {
     "data": {
      "text/plain": [
       "6"
      ]
     },
     "execution_count": 2,
     "metadata": {},
     "output_type": "execute_result"
    }
   ],
   "source": [
    "mutiply(2,3)"
   ]
  },
  {
   "cell_type": "code",
   "execution_count": 3,
   "metadata": {},
   "outputs": [
    {
     "data": {
      "text/plain": [
       "8"
      ]
     },
     "execution_count": 3,
     "metadata": {},
     "output_type": "execute_result"
    }
   ],
   "source": [
    "power(2,3)"
   ]
  },
  {
   "cell_type": "code",
   "execution_count": 4,
   "metadata": {},
   "outputs": [
    {
     "data": {
      "text/plain": [
       "[0, 2, 4, 6, 8, 10]"
      ]
     },
     "execution_count": 4,
     "metadata": {},
     "output_type": "execute_result"
    }
   ],
   "source": [
    "list1=[i for i in range(11) if i%2==0]\n",
    "list1"
   ]
  },
  {
   "cell_type": "markdown",
   "metadata": {},
   "source": [
    "## Map Function"
   ]
  },
  {
   "cell_type": "code",
   "execution_count": 5,
   "metadata": {},
   "outputs": [
    {
     "data": {
      "text/plain": [
       "<map at 0x25620d140d0>"
      ]
     },
     "execution_count": 5,
     "metadata": {},
     "output_type": "execute_result"
    }
   ],
   "source": [
    "list_double=map(lambda x: x*2, list1)\n",
    "list_double"
   ]
  },
  {
   "cell_type": "code",
   "execution_count": 6,
   "metadata": {},
   "outputs": [
    {
     "data": {
      "text/plain": [
       "[0, 4, 8, 12, 16, 20]"
      ]
     },
     "execution_count": 6,
     "metadata": {},
     "output_type": "execute_result"
    }
   ],
   "source": [
    "list(list_double)"
   ]
  },
  {
   "cell_type": "code",
   "execution_count": 7,
   "metadata": {},
   "outputs": [
    {
     "data": {
      "text/plain": [
       "['MY', 'NAME', 'IS', 'RANVIR']"
      ]
     },
     "execution_count": 7,
     "metadata": {},
     "output_type": "execute_result"
    }
   ],
   "source": [
    "string_l=['My','Name','is','Ranvir']\n",
    "cap_l=map(lambda x: str.upper(x),string_l)\n",
    "list(cap_l)"
   ]
  },
  {
   "cell_type": "code",
   "execution_count": 38,
   "metadata": {},
   "outputs": [
    {
     "data": {
      "text/plain": [
       "['M',\n",
       " 'Y',\n",
       " ' ',\n",
       " 'N',\n",
       " 'A',\n",
       " 'M',\n",
       " 'E',\n",
       " ' ',\n",
       " 'I',\n",
       " 'S',\n",
       " ' ',\n",
       " 'R',\n",
       " 'A',\n",
       " 'N',\n",
       " 'V',\n",
       " 'I',\n",
       " 'R']"
      ]
     },
     "execution_count": 38,
     "metadata": {},
     "output_type": "execute_result"
    }
   ],
   "source": [
    "string_s='My Name is Ranvir'\n",
    "cap_s=map(lambda x: str.upper(x),string_s)\n",
    "list(cap_s)"
   ]
  },
  {
   "cell_type": "markdown",
   "metadata": {},
   "source": [
    "## Sorting"
   ]
  },
  {
   "cell_type": "code",
   "execution_count": 14,
   "metadata": {},
   "outputs": [
    {
     "data": {
      "text/plain": [
       "[2, 11, 16, 15, 15, 17, 22, 6, 20, 12, 27]"
      ]
     },
     "execution_count": 14,
     "metadata": {},
     "output_type": "execute_result"
    }
   ],
   "source": [
    "import random\n",
    "rand_num=[random.randrange(1,30) for i in range(11)]\n",
    "rand_num"
   ]
  },
  {
   "cell_type": "code",
   "execution_count": 15,
   "metadata": {},
   "outputs": [
    {
     "data": {
      "text/plain": [
       "[2, 6, 11, 12, 15, 15, 16, 17, 20, 22, 27]"
      ]
     },
     "execution_count": 15,
     "metadata": {},
     "output_type": "execute_result"
    }
   ],
   "source": [
    "sorted(rand_num)"
   ]
  },
  {
   "cell_type": "code",
   "execution_count": 16,
   "metadata": {},
   "outputs": [
    {
     "data": {
      "text/plain": [
       "[27, 22, 20, 17, 16, 15, 15, 12, 11, 6, 2]"
      ]
     },
     "execution_count": 16,
     "metadata": {},
     "output_type": "execute_result"
    }
   ],
   "source": [
    "sorted(rand_num, reverse=True)"
   ]
  },
  {
   "cell_type": "code",
   "execution_count": 18,
   "metadata": {},
   "outputs": [
    {
     "data": {
      "text/plain": [
       "[2, 11, 16, 15, 15, 17, 22, 6, 20, 12, 27]"
      ]
     },
     "execution_count": 18,
     "metadata": {},
     "output_type": "execute_result"
    }
   ],
   "source": [
    "rand_num"
   ]
  },
  {
   "cell_type": "code",
   "execution_count": 19,
   "metadata": {},
   "outputs": [
    {
     "data": {
      "text/plain": [
       "[2, 6, 11, 12, 15, 15, 16, 17, 20, 22, 27]"
      ]
     },
     "execution_count": 19,
     "metadata": {},
     "output_type": "execute_result"
    }
   ],
   "source": [
    "rand_num.sort()\n",
    "rand_num"
   ]
  },
  {
   "cell_type": "code",
   "execution_count": 20,
   "metadata": {},
   "outputs": [
    {
     "data": {
      "text/plain": [
       "[27, 22, 20, 17, 16, 15, 15, 12, 11, 6, 2]"
      ]
     },
     "execution_count": 20,
     "metadata": {},
     "output_type": "execute_result"
    }
   ],
   "source": [
    "rand_num.sort(reverse=True)\n",
    "rand_num"
   ]
  },
  {
   "cell_type": "code",
   "execution_count": 22,
   "metadata": {},
   "outputs": [
    {
     "data": {
      "text/plain": [
       "[2, 6, 11, 12, 15, 15, 16, 17, 20, 22, 27]"
      ]
     },
     "execution_count": 22,
     "metadata": {},
     "output_type": "execute_result"
    }
   ],
   "source": [
    "#list will be sorted by lambda values\n",
    "rand_num.sort(key= lambda x:x*3)\n",
    "rand_num"
   ]
  },
  {
   "cell_type": "code",
   "execution_count": 69,
   "metadata": {},
   "outputs": [
    {
     "data": {
      "text/plain": [
       "['Akash Banerjee',\n",
       " 'Subhadwip Basu',\n",
       " 'Varnith Chrodia',\n",
       " 'Riya Debnath',\n",
       " 'Dhruv Dogra',\n",
       " 'Pragnesh Patel',\n",
       " 'Ranvir Singh',\n",
       " 'Naren Sundar']"
      ]
     },
     "execution_count": 69,
     "metadata": {},
     "output_type": "execute_result"
    }
   ],
   "source": [
    "names=['Dhruv Dogra','Riya Debnath','Ranvir Singh','Akash Banerjee','Subhadwip Basu','Pragnesh Patel','Naren Sundar','Varnith Chrodia']\n",
    "names.sort(key=lambda x: x.split()[-1].lower())\n",
    "names"
   ]
  },
  {
   "cell_type": "code",
   "execution_count": 68,
   "metadata": {},
   "outputs": [
    {
     "data": {
      "text/plain": [
       "'Dogra'"
      ]
     },
     "execution_count": 68,
     "metadata": {},
     "output_type": "execute_result"
    }
   ],
   "source": [
    "names[0].split()[-1]"
   ]
  },
  {
   "cell_type": "markdown",
   "metadata": {},
   "source": [
    "## Filter Function"
   ]
  },
  {
   "cell_type": "code",
   "execution_count": 28,
   "metadata": {
    "scrolled": true
   },
   "outputs": [
    {
     "data": {
      "text/plain": [
       "[(9, 32),\n",
       " (13, 32),\n",
       " (25, 32),\n",
       " (20, 32),\n",
       " (1, 32),\n",
       " (9, 35),\n",
       " (13, 35),\n",
       " (25, 35),\n",
       " (20, 35),\n",
       " (1, 35),\n",
       " (9, 43),\n",
       " (13, 43),\n",
       " (25, 43),\n",
       " (20, 43),\n",
       " (1, 43),\n",
       " (9, 56),\n",
       " (13, 56),\n",
       " (25, 56),\n",
       " (20, 56),\n",
       " (1, 56),\n",
       " (9, 59),\n",
       " (13, 59),\n",
       " (25, 59),\n",
       " (20, 59),\n",
       " (1, 59)]"
      ]
     },
     "execution_count": 28,
     "metadata": {},
     "output_type": "execute_result"
    }
   ],
   "source": [
    "rand_num1=[random.randrange(1,30) for i in range(5)]\n",
    "rand_num2=[random.randrange(31,60) for i in range(5)]\n",
    "lam_rand=[(i,j) for i in rand_num1 for j in rand_num2]\n",
    "lam_rand.sort(key=lambda x:x[1])\n",
    "lam_rand"
   ]
  },
  {
   "cell_type": "code",
   "execution_count": 30,
   "metadata": {},
   "outputs": [
    {
     "data": {
      "text/plain": [
       "[59, 56]"
      ]
     },
     "execution_count": 30,
     "metadata": {},
     "output_type": "execute_result"
    }
   ],
   "source": [
    "filter_rand=filter(lambda x:x>45,rand_num2)\n",
    "list(filter_rand)"
   ]
  },
  {
   "cell_type": "markdown",
   "metadata": {},
   "source": [
    "## Reduce Function"
   ]
  },
  {
   "cell_type": "code",
   "execution_count": 33,
   "metadata": {},
   "outputs": [
    {
     "data": {
      "text/plain": [
       "68"
      ]
     },
     "execution_count": 33,
     "metadata": {},
     "output_type": "execute_result"
    }
   ],
   "source": [
    "from functools import reduce \n",
    "sum_up=reduce(lambda x,y: x+y, rand_num1)\n",
    "sum_up"
   ]
  },
  {
   "cell_type": "code",
   "execution_count": 35,
   "metadata": {},
   "outputs": [
    {
     "data": {
      "text/plain": [
       "25"
      ]
     },
     "execution_count": 35,
     "metadata": {},
     "output_type": "execute_result"
    }
   ],
   "source": [
    "max_up=reduce(lambda x,y:max(x,y), rand_num1)\n",
    "max_up"
   ]
  },
  {
   "cell_type": "code",
   "execution_count": 37,
   "metadata": {},
   "outputs": [
    {
     "data": {
      "text/plain": [
       "25"
      ]
     },
     "execution_count": 37,
     "metadata": {},
     "output_type": "execute_result"
    }
   ],
   "source": [
    "max_up=reduce(lambda x,y: x if x>y else y,rand_num1 )\n",
    "max_up"
   ]
  },
  {
   "cell_type": "markdown",
   "metadata": {},
   "source": [
    "## Nested List"
   ]
  },
  {
   "cell_type": "code",
   "execution_count": 42,
   "metadata": {},
   "outputs": [
    {
     "data": {
      "text/plain": [
       "[78, 77, 80, 73, 62]"
      ]
     },
     "execution_count": 42,
     "metadata": {},
     "output_type": "execute_result"
    }
   ],
   "source": [
    "scores=[[1,32,80],[2,36,75],[3,28,82],[4,33,75],[5,37,60]]\n",
    "abv_avg=35\n",
    "new_scores=map(lambda x: x[2]+2 if x[1]>abv_avg else x[2]-2, scores)\n",
    "list(new_scores)"
   ]
  },
  {
   "cell_type": "markdown",
   "metadata": {},
   "source": [
    "## Mutiple Lists"
   ]
  },
  {
   "cell_type": "code",
   "execution_count": 43,
   "metadata": {},
   "outputs": [
    {
     "data": {
      "text/plain": [
       "[58, 66, 54, 59, 85]"
      ]
     },
     "execution_count": 43,
     "metadata": {},
     "output_type": "execute_result"
    }
   ],
   "source": [
    "# adding 2 lists element wise\n",
    "rand_num1=[random.randrange(1,30) for i in range(5)]\n",
    "rand_num2=[random.randrange(31,60) for i in range(5)]\n",
    "rand_add=map(lambda x,y: x+y,rand_num1,rand_num2)\n",
    "list(rand_add)"
   ]
  },
  {
   "cell_type": "markdown",
   "metadata": {},
   "source": [
    "## Dictionary"
   ]
  },
  {
   "cell_type": "code",
   "execution_count": 59,
   "metadata": {},
   "outputs": [
    {
     "name": "stdout",
     "output_type": "stream",
     "text": [
      "['India', 'Australia', 'China', 'US', 'Canda'] [200, 210, 150, 300, 260]\n"
     ]
    }
   ],
   "source": [
    "sales=[{'country':\"India\",'sales':200},{'country':\"Australia\",'sales':210},{'country':\"China\",'sales':150},{'country':\"US\",'sales':300},{'country':\"Canda\",'sales':260}]\n",
    "country=map(lambda x:x['country'],sales)\n",
    "sale=map(lambda x:x['sales'],sales)\n",
    "print(list(country),list(sale))"
   ]
  },
  {
   "cell_type": "code",
   "execution_count": 60,
   "metadata": {},
   "outputs": [
    {
     "data": {
      "text/plain": [
       "[{'country': 'Australia', 'sales': 210},\n",
       " {'country': 'US', 'sales': 300},\n",
       " {'country': 'Canda', 'sales': 260}]"
      ]
     },
     "execution_count": 60,
     "metadata": {},
     "output_type": "execute_result"
    }
   ],
   "source": [
    "high_sales=filter(lambda x:x['sales']>200,sales)\n",
    "list(high_sales)"
   ]
  },
  {
   "cell_type": "markdown",
   "metadata": {},
   "source": [
    "## Examples"
   ]
  },
  {
   "cell_type": "code",
   "execution_count": 63,
   "metadata": {},
   "outputs": [
    {
     "data": {
      "text/plain": [
       "'Ranvir Singh'"
      ]
     },
     "execution_count": 63,
     "metadata": {},
     "output_type": "execute_result"
    }
   ],
   "source": [
    "full_name=lambda fn,ln: fn.strip().title()+' '+ln.strip().title()\n",
    "full_name(' ranvir', 'sIngh ')"
   ]
  },
  {
   "cell_type": "code",
   "execution_count": null,
   "metadata": {},
   "outputs": [],
   "source": []
  }
 ],
 "metadata": {
  "kernelspec": {
   "display_name": "Python 3",
   "language": "python",
   "name": "python3"
  },
  "language_info": {
   "codemirror_mode": {
    "name": "ipython",
    "version": 3
   },
   "file_extension": ".py",
   "mimetype": "text/x-python",
   "name": "python",
   "nbconvert_exporter": "python",
   "pygments_lexer": "ipython3",
   "version": "3.8.3"
  }
 },
 "nbformat": 4,
 "nbformat_minor": 4
}
